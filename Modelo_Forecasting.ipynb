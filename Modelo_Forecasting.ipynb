{
 "cells": [
  {
   "attachments": {},
   "cell_type": "markdown",
   "metadata": {},
   "source": [
    "<h1 style='color: blue; font-size: 34px; font-weight: bold;'> Projeto Proposto \n",
    "</h1>\n",
    "<p style='font-size: 18px; line-height: 2; margin: 0px 0px; text-align: justify; text-indent: 0px;'>    \n",
    "<i> Este projeto tem o intuito de estudar Modelos de Séries Temporais para previsão da taxa de mortalidade em alguns países. </i>       \n",
    "</p>  "
   ]
  },
  {
   "attachments": {},
   "cell_type": "markdown",
   "metadata": {},
   "source": [
    "# <font color='red' style='font-size: 40px;'> Problemática </font>\n",
    "<hr style='border: 2px solid red;'>\n",
    "\n",
    "<p style='font-size: 18px; line-height: 2; margin: 0px 0px; text-align: justify; text-indent: 0px;'>    \n",
    "<i>  Este projeto tem o intuito de estudar Modelos de Séries Temporais para previsão da taxa de mortalidade em alguns países.\n",
    "\n",
    "\n",
    "</i> \n",
    "</p>  \n",
    "\n",
    "<p style='font-size: 18px; line-height: 2; margin: 0px 0px; text-align: justify; text-indent: 0px;'>    \n",
    "<i> \n",
    "</i> \n",
    "</p>  \n"
   ]
  },
  {
   "attachments": {},
   "cell_type": "markdown",
   "metadata": {},
   "source": [
    "# <font color='red' style='font-size: 40px;'> Bibliotecas Utilizadas </font>\n",
    "<hr style='border: 2px solid red;'>"
   ]
  },
  {
   "cell_type": "code",
   "execution_count": 1,
   "metadata": {},
   "outputs": [],
   "source": [
    "## Bibliotecas De Manipulação de Dados e Visualização\n",
    "import pandas as pd \n",
    "import geopandas as gpd\n",
    "import builtins as builtins\n",
    "from pyspark.sql.functions import * \n",
    "from pyspark.sql.types import *\n",
    "from pyspark.sql.window import Window\n",
    "from pyspark.sql import SparkSession, Row, functions as F \n",
    "import matplotlib.pyplot as plt\n",
    "import seaborn as sns \n",
    "from IPython.display import display, Image\n",
    "\n",
    "## Bibliotecas de Modelagem Matemática e Estatística\n",
    "import numpy as np\n",
    "import scipy as sp \n",
    "import scipy.stats as stats\n",
    "import statsmodels\n",
    "import statsmodels.api as sm\n",
    "import statsmodels.formula.api as smf\n",
    "from scipy.stats import normaltest, ttest_ind, ttest_rel, mannwhitneyu, wilcoxon, kruskal\n",
    "from statsmodels.stats.weightstats import ztest\n",
    "from statsmodels.stats.diagnostic import lilliefors\n",
    "\n",
    "# Bibliotecas de Manipulação de Tempo\n",
    "import time\n",
    "import datetime\n",
    "\n",
    "# Bibiliotecas de Seleção de Modelos\n",
    "from sklearn.model_selection import train_test_split, KFold, cross_val_score, cross_validate, GridSearchCV\n",
    "from skopt import BayesSearchCV\n",
    "from skopt.space import Real, Categorical, Integer \n",
    "from sklearn.feature_selection import RFE, VarianceThreshold\n",
    "from feature_engine.selection import DropConstantFeatures, DropCorrelatedFeatures, SmartCorrelatedSelection\n",
    "\n",
    "# Bibliotecas de Pré-Processamento e Pipeline\n",
    "from sklearn.preprocessing import StandardScaler, MinMaxScaler\n",
    "from category_encoders import TargetEncoder, BinaryEncoder\n",
    "import category_encoders as ce \n",
    "from sklearn.pipeline import Pipeline, make_pipeline\n",
    "from sklearn.compose import ColumnTransformer\n",
    "from sklearn.impute import SimpleImputer, KNNImputer\n",
    "\n",
    "# Bibliotecas de Modelos de Machine Learning\n",
    "from sklearn.linear_model import LinearRegression\n",
    "from sklearn.ensemble import RandomForestRegressor, GradientBoostingRegressor\n",
    "\n",
    "# Bibliotecas de Métricas de Machine Learning\n",
    "from sklearn.metrics import mean_absolute_error, mean_squared_error, mean_absolute_percentage_error\n",
    "\n",
    "# Parâmetros de Otimização\n",
    "import warnings\n",
    "%matplotlib inline\n",
    "sns.set()\n",
    "plt.rcParams['font.family'] = 'Arial'\n",
    "plt.rcParams['font.size'] = '14'\n",
    "plt.rcParams['figure.figsize'] = [10, 5]\n",
    "pd.set_option('display.max_rows', 100)\n",
    "pd.set_option('display.max_columns', 100)\n",
    "pd.set_option('display.float_format', lambda x: '%.2f' % x) # Tira os números do formato de Notação Científica\n",
    "np.set_printoptions(suppress=True) # Tira os números do formato de Notação Científica em Numpy Arrays\n",
    "warnings.filterwarnings('ignore')\n",
    "warnings.simplefilter(action='ignore', category=FutureWarning) # Retira Future Warnings\n",
    "\n",
    "# Spark Session\n",
    "spark = SparkSession.builder.getOrCreate()"
   ]
  },
  {
   "attachments": {},
   "cell_type": "markdown",
   "metadata": {},
   "source": [
    "# <font color='red' style='font-size: 40px;'> Funções </font>\n",
    "<hr style='border: 2px solid red;'>"
   ]
  },
  {
   "cell_type": "code",
   "execution_count": 2,
   "metadata": {},
   "outputs": [],
   "source": [
    "def plota_temporal(df, titulo, x, y):\n",
    "    plt.figure(figsize=(10, 6))\n",
    "    plt.plot(df, color='#1FB3E5', linewidth=2)\n",
    "    plt.scatter(df.index, df, color='#1FB3E5', s=40)\n",
    "    plt.title(f\"{titulo}\", fontsize=14)  # Define o título do gráfico e o tamanho da fonte\n",
    "    plt.xlabel(f\"{x}\", fontsize=12)  # Define o rótulo do eixo x e o tamanho da fonte\n",
    "    plt.ylabel(f\"{y}\", fontsize=12)  # Define o rótulo do eixo y e o tamanho da fonte\n",
    "    plt.xticks(df.index, fontsize=10)  # Define o tamanho da fonte dos valores no eixo x\n",
    "    plt.yticks(fontsize=10)  # Define o tamanho da fonte dos valores no eixo y\n",
    "    plt.grid(True, linestyle=':', alpha=0.5)  # Adiciona linhas de grade\n",
    "    plt.tight_layout()  # Ajusta automaticamente a posição dos elementos do gráfico\n",
    "    plt.show()  # Exibe o gráfico"
   ]
  },
  {
   "cell_type": "code",
   "execution_count": 3,
   "metadata": {},
   "outputs": [],
   "source": [
    "def ano_mes_dia(df):\n",
    "\n",
    "    df['timestamp'] = pd.to_datetime(df['timestamp'])\n",
    "    df['year'] = df['timestamp'].dt.year\n",
    "    df['month'] = df['timestamp'].dt.month\n",
    "    df['day'] = df['timestamp'].dt.day\n"
   ]
  },
  {
   "cell_type": "code",
   "execution_count": 4,
   "metadata": {},
   "outputs": [],
   "source": [
    "def separa_feature_target(target, dados):\n",
    "    x = dados.drop(target, axis = 1)\n",
    "    y = dados[[target]]\n",
    "    return x, y"
   ]
  },
  {
   "cell_type": "code",
   "execution_count": 5,
   "metadata": {},
   "outputs": [],
   "source": [
    "def separa_treino_teste_temporal(data, data_teste, dados):\n",
    "    dados.sort_values(by = data, ascending = True, inplace = True)\n",
    "    df_train = dados.loc[dados[data] < data_teste]\n",
    "    df_test = dados.loc[dados[data] >= data_teste]\n",
    "\n",
    "    return df_train, df_test"
   ]
  },
  {
   "cell_type": "code",
   "execution_count": 6,
   "metadata": {},
   "outputs": [],
   "source": [
    "def discretiza_variavel(df, variavel_quant, variavel_qualit, bins, labels, right):\n",
    "    df[variavel_qualit] = pd.cut(\n",
    "        df[variavel_quant], \n",
    "        bins= bins, \n",
    "        labels= labels, \n",
    "        right = right\n",
    "    )\n",
    "    df.drop(variavel_quant, axis = 1, inplace = True)"
   ]
  },
  {
   "cell_type": "code",
   "execution_count": 7,
   "metadata": {},
   "outputs": [],
   "source": [
    "def metricas(regressor, target, y_train, y_predict_train, y_test, y_predict_test, coeficiente_det_train, coeficiente_det_test):\n",
    "    y_test[target].fillna(y_train[target].median(), inplace = True)\n",
    "\n",
    "    mae_train = mean_absolute_error(y_predict_train, y_train)\n",
    "    mse_train = mean_squared_error(y_predict_train, y_train)\n",
    "    mape_train = mean_absolute_percentage_error(y_predict_train, y_train)\n",
    "    metricas_treino = pd.DataFrame({'Coeficiente de Determinação (R^2)':coeficiente_det_train, 'Erro_Medio_Absoluto':mae_train, 'Erro_Quadratico_Medio':mse_train, 'Media_Percentual_Absoluta_Erro':mape_train, 'Etapa':'treino', 'Regressor':regressor}, index = np.arange(1, 2))\n",
    "\n",
    "\n",
    "    mae_test = mean_absolute_error(y_predict_test, y_test)\n",
    "    mse_test = mean_squared_error(y_predict_test, y_test)\n",
    "    mape_test = mean_absolute_percentage_error(y_predict_test, y_test)\n",
    "    metricas_teste = pd.DataFrame({'Coeficiente de Determinação (R^2)':coeficiente_det_test, 'Erro_Medio_Absoluto':mae_test, 'Erro_Quadratico_Medio':mse_test, 'Media_Percentual_Absoluta_Erro':mape_test, 'Etapa':'teste', 'Regressor':regressor}, index = np.arange(1, 2))\n",
    "\n",
    "    metricas_finais = pd.concat([metricas_treino, metricas_teste])\n",
    "\n",
    "    return metricas_finais\n",
    "\n",
    "def metricas_modelos_juntos(lista_modelos):\n",
    "    metricas_modelos = pd.concat(lista_modelos).set_index('Regressor')\n",
    "    return metricas_modelos\n"
   ]
  },
  {
   "attachments": {},
   "cell_type": "markdown",
   "metadata": {},
   "source": [
    "# <font color='red' style='font-size: 40px;'> 1) Leitura do Dataset </font>\n",
    "<hr style='border: 2px solid red;'>"
   ]
  },
  {
   "attachments": {},
   "cell_type": "markdown",
   "metadata": {},
   "source": [
    "# <font color='green' style='font-size: 30px;'> 1.1) Descrição das Variáveis </font>\n",
    "<hr style='border: 2px solid green;'>\n",
    "\n",
    "1. **Country Code:** Um código que representa o país.\n",
    "\n",
    "2. **Country Name:** O nome do país.\n",
    "\n",
    "3. **Year:** O ano dos dados.\n",
    "\n",
    "4. **Age Group:** O grupo etário dos indivíduos.\n",
    "\n",
    "5. **Sex:** O sexo dos indivíduos (Masculino, Feminino, Ambos).\n",
    "\n",
    "6. **Number of Deaths:** O número de mortes.\n",
    "\n",
    "7. **Death Rate Per 100,000:** A taxa de mortalidade por 100.000 indivíduos."
   ]
  },
  {
   "cell_type": "code",
   "execution_count": null,
   "metadata": {},
   "outputs": [],
   "source": [
    "df_raw = pd.read_csv('./data/IHME_GBD_2010_MORTALITY_AGE_SPECIFIC_BY_COUNTRY_1970_2010.csv')\\\n",
    "\n",
    "# df_cases['city_code'] = df_cases['code'].astype(int)\n",
    "# df_cases['cases'] = df_cases['cases'].astype(int)\n",
    "# df_raw_cities['city_code'] = df_raw_cities['city_code'].astype(str).str[:-1].astype(int)"
   ]
  },
  {
   "cell_type": "markdown",
   "metadata": {},
   "source": [
    "# <font color='red' style='font-size: 40px;'> 2) Análise Exploratória </font>\n",
    "<hr style='border: 2px solid red;'>\n",
    "\n",
    "> 1. Para a análise, vamos explorar os seguintes tópicos:\n",
    "\n",
    "- 1. Qual país tem a maior média de taxa de mortalidade por 100.000 indivíduos ao longo de todos os anos?\n",
    "- 2. Qual é a tendência na taxa de mortalidade por 100.000 indivíduos ao longo dos anos para os países da América do Sul? Trace um gráfico de linhas contendo todos os países e a evolução das mortes ao longo dos anos.\n",
    "- 3. Existem diferenças significativas nas taxas de mortalidade entre homens e mulheres em diferentes grupos etários para os países da América do Sul?​\n",
    "- 4. Como a taxa de mortalidade por 100.000 indivíduos varia entre diferentes grupos etários dentro do Brasil? Utilize um histograma contendo a distribuição das mortes por ano para cada uma das faixas etárias.\n",
    "- 5. Qual a evolução das mortes por gênero pra o Brasil? Trace um gráfico de linhas com cada uma delas representando um dos gêneros ao longo dos anos.​\n",
    "- 6. Qual grupo etário tem o maior número de mortes no Brasil? Este número é o mesmo quando olhamos para todos os anos em comparação com quando consideramos apenas os últimos 10 anos?\n",
    "- 7. Qual país apresentou a melhoria mais significativa nas taxas de mortalidade por 100.000 indivíduos ao longo do período analisado?"
   ]
  },
  {
   "cell_type": "code",
   "execution_count": 40,
   "metadata": {},
   "outputs": [],
   "source": [
    "df_cases_states_time_series = (\n",
    "    df_cases.groupby(['date', 'state']).agg({\n",
    "        \"cases\": \"sum\", \n",
    "        \"deaths\": \"sum\", \n",
    "    })\n",
    "    .reset_index()\n",
    ")\n",
    "\n",
    "df_cases_states_time_series['tax_deaths_per_cases'] = df_cases_states_time_series['deaths']/df_cases_states_time_series['cases']*100\n",
    "df_cases_states_time_series['tax_deaths_per_cases'] = df_cases_states_time_series['tax_deaths_per_cases'].fillna(0)\n",
    "\n",
    "df_cases_states_cross_section = (\n",
    "    df_cases.groupby(['state']).agg({\n",
    "        \"cases\": \"sum\", \n",
    "        \"deaths\": \"sum\", \n",
    "    })\n",
    "    .reset_index()\n",
    ")\n",
    "\n",
    "df_cases_states_cross_section['tax_deaths_per_cases'] = df_cases_states_cross_section['deaths']/df_cases_states_cross_section['cases']*100\n",
    "df_cases_states_cross_section['tax_deaths_per_cases'] = df_cases_states_cross_section['tax_deaths_per_cases'].fillna(0)\n"
   ]
  },
  {
   "cell_type": "markdown",
   "metadata": {},
   "source": [
    "# <font color='green' style='font-size: 30px;'> 2.1) Distribuição Geral de Casos e Mortes </font>\n",
    "<hr style='border: 2px solid green;'>"
   ]
  },
  {
   "cell_type": "code",
   "execution_count": null,
   "metadata": {},
   "outputs": [],
   "source": []
  },
  {
   "cell_type": "markdown",
   "metadata": {},
   "source": [
    "# <font color='green' style='font-size: 30px;'> 2.2) Distribuição Acumulada </font>\n",
    "<hr style='border: 2px solid green;'>"
   ]
  },
  {
   "cell_type": "code",
   "execution_count": 4,
   "metadata": {},
   "outputs": [],
   "source": [
    "# # Agrupa por data e calcula a soma acumulada\n",
    "# df_grouped = df_cases_states.sort_values(by='date').groupby('date')[['cases', 'deaths']].sum().cumsum().reset_index()\n",
    "\n",
    "# print(df_grouped.head())  # Exibe os primeiros valores acumulados\n"
   ]
  },
  {
   "cell_type": "code",
   "execution_count": 5,
   "metadata": {},
   "outputs": [],
   "source": [
    "# # Criando o gráfico\n",
    "# plt.figure(figsize=(12,6))\n",
    "# plt.plot(df_grouped['date'], df_grouped['cases'], label='Casos Acumulados', color='blue', linestyle='-', marker='o')\n",
    "# plt.plot(df_grouped['date'], df_grouped['deaths'], label='Mortes Acumuladas', color='red', linestyle='-', marker='s')\n",
    "\n",
    "# # Configurações do gráfico\n",
    "# plt.xlabel('Data')\n",
    "# plt.ylabel('Quantidade Acumulada')\n",
    "# plt.title('Evolução Acumulada de Casos e Mortes')\n",
    "# plt.xticks(rotation=45)  # Rotaciona as datas para melhor visualização\n",
    "# plt.legend()\n",
    "# plt.grid()\n",
    "\n",
    "# # Exibir gráfico\n",
    "# plt.show()\n"
   ]
  },
  {
   "cell_type": "code",
   "execution_count": null,
   "metadata": {},
   "outputs": [],
   "source": []
  },
  {
   "cell_type": "markdown",
   "metadata": {},
   "source": [
    "# <font color='green' style='font-size: 30px;'> 2.3) Distribuição ao Longo do Tempo </font>\n",
    "<hr style='border: 2px solid green;'>"
   ]
  },
  {
   "cell_type": "code",
   "execution_count": null,
   "metadata": {},
   "outputs": [],
   "source": []
  },
  {
   "cell_type": "code",
   "execution_count": null,
   "metadata": {},
   "outputs": [],
   "source": []
  },
  {
   "cell_type": "code",
   "execution_count": null,
   "metadata": {},
   "outputs": [],
   "source": []
  },
  {
   "cell_type": "code",
   "execution_count": null,
   "metadata": {},
   "outputs": [],
   "source": []
  },
  {
   "cell_type": "code",
   "execution_count": null,
   "metadata": {},
   "outputs": [],
   "source": []
  },
  {
   "cell_type": "code",
   "execution_count": null,
   "metadata": {},
   "outputs": [],
   "source": []
  },
  {
   "cell_type": "code",
   "execution_count": null,
   "metadata": {},
   "outputs": [],
   "source": []
  },
  {
   "cell_type": "code",
   "execution_count": null,
   "metadata": {},
   "outputs": [],
   "source": []
  },
  {
   "cell_type": "code",
   "execution_count": null,
   "metadata": {},
   "outputs": [],
   "source": [
    "# df_raw_groupped = df_raw.groupby(['Date', 'Country/Region']).agg({\n",
    "#     \"Lat\": \"max\", \n",
    "#     \"Long\": \"max\", \n",
    "#     \"Confirmed\": \"sum\", \n",
    "#     \"Recovered\": \"sum\", \n",
    "#     \"Deaths\": \"sum\"\n",
    "# }).reset_index()"
   ]
  },
  {
   "cell_type": "code",
   "execution_count": null,
   "metadata": {},
   "outputs": [],
   "source": [
    "# plt.figure(figsize=(16,8))\n",
    "# ax = plt.subplot(1,2,1)\n",
    "# ax.set_title('Casos Acumulados', fontsize=18, loc='left')\n",
    "# plt.plot(df_brazil['Brazil'], label='Brazil')\n",
    "# plt.plot(df_conf_w['Argentina'], label='Argentina')\n",
    "# plt.plot(df_conf_w['Uruguay'], label='Uruguay')\n",
    "# plt.xlabel(\"Dia\")\n",
    "# plt.ylabel(\"Casos\")\n",
    "# plt.legend();\n",
    "# ax = plt.subplot(1,2,2)\n",
    "# ax.set_title('Óbitos Acumulados', fontsize=18, loc='left')\n",
    "# plt.plot(df_brazil['Brazil'], label='Brazil')\n",
    "# plt.plot(df_deaths_w['Argentina'], label='Argentina')\n",
    "# plt.plot(df_deaths_w['Uruguay'], label='Uruguay')\n",
    "# plt.xlabel(\"Dia\")\n",
    "# plt.ylabel(\"Óbitos\")\n",
    "# plt.legend()"
   ]
  }
 ],
 "metadata": {
  "kernelspec": {
   "display_name": "base",
   "language": "python",
   "name": "python3"
  },
  "language_info": {
   "codemirror_mode": {
    "name": "ipython",
    "version": 3
   },
   "file_extension": ".py",
   "mimetype": "text/x-python",
   "name": "python",
   "nbconvert_exporter": "python",
   "pygments_lexer": "ipython3",
   "version": "3.9.16"
  },
  "orig_nbformat": 4
 },
 "nbformat": 4,
 "nbformat_minor": 2
}
